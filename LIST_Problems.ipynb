{
  "nbformat": 4,
  "nbformat_minor": 0,
  "metadata": {
    "colab": {
      "provenance": []
    },
    "kernelspec": {
      "name": "python3",
      "display_name": "Python 3"
    },
    "language_info": {
      "name": "python"
    }
  },
  "cells": [
    {
      "cell_type": "code",
      "execution_count": null,
      "metadata": {
        "id": "NNChPXMt47j0"
      },
      "outputs": [],
      "source": [
        "heros=['spider man','thor','hulk','iron man','captain america']"
      ]
    },
    {
      "cell_type": "markdown",
      "source": [
        "1. Length of the list\n",
        "2. Add 'black panther' at the end of this list\n",
        "3. You realize that you need to add 'black panther' after 'hulk',\n",
        "   so remove it from the list first and then add it after 'hulk'\n",
        "4. Now you don't like thor and hulk because they get angry easily :)\n",
        "   So you want to remove thor and hulk from list and replace them with doctor strange (because he is cool).\n",
        "   Do that with one line of code.\n",
        "5. Sort the heros list in alphabetical order (Hint. Use dir() functions to list down all functions available in list)\n"
      ],
      "metadata": {
        "id": "Jf9hrTy-5D9Z"
      }
    },
    {
      "cell_type": "code",
      "source": [
        "length = len(heros)\n",
        "print(length)"
      ],
      "metadata": {
        "colab": {
          "base_uri": "https://localhost:8080/"
        },
        "id": "0U8-Gw315E51",
        "outputId": "c3bf3824-b817-460e-a709-66a03f370af8"
      },
      "execution_count": null,
      "outputs": [
        {
          "output_type": "stream",
          "name": "stdout",
          "text": [
            "5\n"
          ]
        }
      ]
    },
    {
      "cell_type": "code",
      "source": [
        "heros.append(\"black panther\")\n",
        "print(heros)"
      ],
      "metadata": {
        "colab": {
          "base_uri": "https://localhost:8080/"
        },
        "id": "5KYsbYmB6Oq2",
        "outputId": "84cb2318-9f24-4da7-e390-3d39e79858fe"
      },
      "execution_count": null,
      "outputs": [
        {
          "output_type": "stream",
          "name": "stdout",
          "text": [
            "['spider man', 'thor', 'hulk', 'iron man', 'captain america', 'black panther']\n"
          ]
        }
      ]
    },
    {
      "cell_type": "code",
      "source": [
        "heros.insert(3,\"Wonder Women\")\n",
        "print(heros)"
      ],
      "metadata": {
        "colab": {
          "base_uri": "https://localhost:8080/"
        },
        "id": "7a8b8ciB6fTD",
        "outputId": "7437e8b9-9428-40a1-95d3-ba0636d1f00f"
      },
      "execution_count": null,
      "outputs": [
        {
          "output_type": "stream",
          "name": "stdout",
          "text": [
            "['spider man', 'thor', 'hulk', 'Wonder Women', 'iron man', 'captain america', 'black panther']\n"
          ]
        }
      ]
    },
    {
      "cell_type": "code",
      "source": [
        "heros.remove('black panther')\n",
        "heros.insert(3, \"black panther\")\n",
        "print(heros)"
      ],
      "metadata": {
        "colab": {
          "base_uri": "https://localhost:8080/"
        },
        "id": "3FQSh2cw6xpY",
        "outputId": "a863f6d4-4fd3-453c-ef5f-8c80bbb34814"
      },
      "execution_count": null,
      "outputs": [
        {
          "output_type": "stream",
          "name": "stdout",
          "text": [
            "['spider man', 'thor', 'hulk', 'black panther', 'Wonder Women', 'iron man', 'captain america']\n"
          ]
        }
      ]
    },
    {
      "cell_type": "code",
      "source": [
        "heros.remove(\"thor\")"
      ],
      "metadata": {
        "id": "aQJ0nxDZ7b26"
      },
      "execution_count": null,
      "outputs": []
    },
    {
      "cell_type": "code",
      "source": [
        "heros.remove(\"hulk\")"
      ],
      "metadata": {
        "id": "jktNzfcr7439"
      },
      "execution_count": null,
      "outputs": []
    },
    {
      "cell_type": "code",
      "source": [
        "heros.insert(1, \"doctor strange\")\n",
        "print (heros)"
      ],
      "metadata": {
        "colab": {
          "base_uri": "https://localhost:8080/"
        },
        "id": "eyPZkGuY7-Mw",
        "outputId": "d6468fbc-70c5-466e-fc9c-2bba3a7ce47a"
      },
      "execution_count": null,
      "outputs": [
        {
          "output_type": "stream",
          "name": "stdout",
          "text": [
            "['spider man', 'doctor strange', 'black panther', 'Wonder Women', 'iron man', 'captain america']\n"
          ]
        }
      ]
    },
    {
      "cell_type": "code",
      "source": [
        "heros.sort()\n",
        "print(heros)"
      ],
      "metadata": {
        "colab": {
          "base_uri": "https://localhost:8080/"
        },
        "id": "tilemSBX8LzM",
        "outputId": "daf85c5c-8c44-4cff-b807-e4013b47cebb"
      },
      "execution_count": null,
      "outputs": [
        {
          "output_type": "stream",
          "name": "stdout",
          "text": [
            "['Wonder Women', 'black panther', 'captain america', 'doctor strange', 'iron man', 'spider man']\n"
          ]
        }
      ]
    },
    {
      "cell_type": "markdown",
      "source": [
        "Create a list of all odd numbers between 1 and a max number. Max number is something you need to take from a user using input() function\\"
      ],
      "metadata": {
        "id": "FkBCmfvp9TSR"
      }
    },
    {
      "cell_type": "code",
      "source": [
        "max_number = int(input('Enter a number between 1 to 99: '))\n",
        "odd_number = [num for num in range(1, max_number+1) if num % 2 != 0]\n",
        "print(odd_number)"
      ],
      "metadata": {
        "colab": {
          "base_uri": "https://localhost:8080/"
        },
        "id": "tUXf_qje9UFE",
        "outputId": "6be2b57b-145d-4ee9-dad7-0b17cb4ed4f2"
      },
      "execution_count": null,
      "outputs": [
        {
          "output_type": "stream",
          "name": "stdout",
          "text": [
            "Enter a number between 1 to 99: 87\n",
            "[1, 3, 5, 7, 9, 11, 13, 15, 17, 19, 21, 23, 25, 27, 29, 31, 33, 35, 37, 39, 41, 43, 45, 47, 49, 51, 53, 55, 57, 59, 61, 63, 65, 67, 69, 71, 73, 75, 77, 79, 81, 83, 85, 87]\n"
          ]
        }
      ]
    },
    {
      "cell_type": "code",
      "source": [
        "# Step 1: Take the maximum number as input from the user\n",
        "max_number = int(input(\"Enter the maximum number: \"))\n",
        "\n",
        "# Step 2: Create a list of all odd numbers between 1 and the max number\n",
        "odd_numbers = [num for num in range(1, max_number + 1) if num % 2 != 0]\n",
        "\n",
        "# Step 3: Print the list of odd numbers\n",
        "print(\"List of odd numbers:\", odd_numbers)"
      ],
      "metadata": {
        "id": "cR7AJQKy9gPp"
      },
      "execution_count": null,
      "outputs": []
    },
    {
      "cell_type": "markdown",
      "source": [
        "Let us say your expense for every month are listed below,\n",
        "January - 2200\n",
        "February - 2350\n",
        "March - 2600\n",
        "April - 2130\n",
        "May - 2190\n",
        "Create a list to store these monthly expenses and using that find out,"
      ],
      "metadata": {
        "id": "Uwznlq6g_Ctj"
      }
    },
    {
      "cell_type": "markdown",
      "source": [
        "1. In Feb, how many dollars you spent extra compare to January?\n",
        "2. Find out your total expense in first quarter (first three months) of the year.\n",
        "3. Find out if you spent exactly 2000 dollars in any month\n",
        "4. June month just finished and your expense is 1980 dollar. Add this item to our monthly expense list\n",
        "5. You returned an item that you bought in a month of April and\n",
        "got a refund of 200$. Make a correction to your monthly expense list\n",
        "based on this"
      ],
      "metadata": {
        "id": "s8rK8-4F_Hoh"
      }
    },
    {
      "cell_type": "code",
      "source": [
        "exp = {\n",
        "    \"january\": 2200,\n",
        "    \"february\": 2350,\n",
        "    \"march\": 2600,\n",
        "    \"april\": 2130,\n",
        "    \"may\": 2190\n",
        "    }\n"
      ],
      "metadata": {
        "id": "x8qWlESW_G1o"
      },
      "execution_count": null,
      "outputs": []
    },
    {
      "cell_type": "code",
      "source": [
        "exp_jan = exp[\"january\"]\n",
        "exp_feb = exp[\"february\"]\n",
        "extra_exp = exp_feb - exp_jan\n",
        "print(f\"extra_exp: {extra_exp}\")"
      ],
      "metadata": {
        "colab": {
          "base_uri": "https://localhost:8080/"
        },
        "id": "YJlXiL8K_wiT",
        "outputId": "75d71a41-3c8b-47cf-f408-9084a3581403"
      },
      "execution_count": null,
      "outputs": [
        {
          "output_type": "stream",
          "name": "stdout",
          "text": [
            "extra_exp: 150\n"
          ]
        }
      ]
    },
    {
      "cell_type": "code",
      "source": [
        "exp = [2200,2350,2600,2130,2190]\n",
        "print(\"expenses for first quaerter: \", exp[0]+exp[1]+exp[2])"
      ],
      "metadata": {
        "colab": {
          "base_uri": "https://localhost:8080/"
        },
        "id": "edeEjIW1AgpQ",
        "outputId": "45c429ee-fd2a-4113-f5a1-eb1b338e686b"
      },
      "execution_count": null,
      "outputs": [
        {
          "output_type": "stream",
          "name": "stdout",
          "text": [
            "expenses for first quaerter:  7150\n"
          ]
        }
      ]
    },
    {
      "cell_type": "code",
      "source": [
        "print(\"Did I spent 2000$ in any month:\", 2000 in exp)"
      ],
      "metadata": {
        "colab": {
          "base_uri": "https://localhost:8080/"
        },
        "id": "EH9WIZeVCR4X",
        "outputId": "bd2b2a90-174e-4c57-9ccd-23273e8adedb"
      },
      "execution_count": null,
      "outputs": [
        {
          "output_type": "stream",
          "name": "stdout",
          "text": [
            "Did I spent 2000$ in any month: False\n"
          ]
        }
      ]
    },
    {
      "cell_type": "code",
      "source": [
        "exp.append(1980)\n",
        "print(exp)"
      ],
      "metadata": {
        "colab": {
          "base_uri": "https://localhost:8080/"
        },
        "id": "n6ro4cLmCdxx",
        "outputId": "c349409b-ab19-4750-fd5e-f01bfa0cb242"
      },
      "execution_count": null,
      "outputs": [
        {
          "output_type": "stream",
          "name": "stdout",
          "text": [
            "[2200, 2350, 2600, 2130, 2190, 1980, 1980]\n"
          ]
        }
      ]
    },
    {
      "cell_type": "code",
      "source": [
        "exp.remove(1980)\n",
        "print(exp)"
      ],
      "metadata": {
        "colab": {
          "base_uri": "https://localhost:8080/"
        },
        "id": "a9yUJt7HCnbT",
        "outputId": "1598fe13-4b77-43d1-9167-8a8c5a0d4e71"
      },
      "execution_count": null,
      "outputs": [
        {
          "output_type": "stream",
          "name": "stdout",
          "text": [
            "[2200, 2350, 2600, 2130, 2190, 1980]\n"
          ]
        }
      ]
    }
  ]
}