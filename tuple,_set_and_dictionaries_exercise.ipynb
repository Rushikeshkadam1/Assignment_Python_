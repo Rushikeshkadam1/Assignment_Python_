{
  "nbformat": 4,
  "nbformat_minor": 0,
  "metadata": {
    "colab": {
      "provenance": []
    },
    "kernelspec": {
      "name": "python3",
      "display_name": "Python 3"
    },
    "language_info": {
      "name": "python"
    }
  },
  "cells": [
    {
      "cell_type": "code",
      "execution_count": null,
      "metadata": {
        "id": "z7j9bpPrDNP3"
      },
      "outputs": [],
      "source": [
        "#"
      ]
    },
    {
      "cell_type": "code",
      "source": [
        "num_set = set([1,5,6,7,1,2,3,4,7,8,5,2,1,7,5,9])"
      ],
      "metadata": {
        "id": "i1F9ErmWDUKI"
      },
      "execution_count": null,
      "outputs": []
    },
    {
      "cell_type": "code",
      "source": [
        "num_set"
      ],
      "metadata": {
        "colab": {
          "base_uri": "https://localhost:8080/"
        },
        "id": "mlqowYGRTQTt",
        "outputId": "cd7697e2-06c0-454e-f050-d76c3c440b52"
      },
      "execution_count": null,
      "outputs": [
        {
          "output_type": "execute_result",
          "data": {
            "text/plain": [
              "{1, 2, 3, 4, 5, 6, 7, 8, 9}"
            ]
          },
          "metadata": {},
          "execution_count": 2
        }
      ]
    },
    {
      "cell_type": "code",
      "source": [
        "# tuples assignment"
      ],
      "metadata": {
        "id": "oq1mSmGok-AS"
      },
      "execution_count": null,
      "outputs": []
    },
    {
      "cell_type": "code",
      "source": [
        "##Assignment 1: Creating and Accessing Tuples\\n\",\n",
        "##   \"Create a tuple with the first 10 positive integers. Print the tuple."
      ],
      "metadata": {
        "id": "HY5uhL6PlB4i"
      },
      "execution_count": null,
      "outputs": []
    },
    {
      "cell_type": "code",
      "source": [
        "num = (1,2,3,4,5,6,7,8,9,10)\n",
        "print(num)\n",
        "print(type(num))"
      ],
      "metadata": {
        "colab": {
          "base_uri": "https://localhost:8080/"
        },
        "id": "YAIhesPolBpt",
        "outputId": "2ff83b73-e702-4e51-bab0-d60ffb25d603"
      },
      "execution_count": null,
      "outputs": [
        {
          "output_type": "stream",
          "name": "stdout",
          "text": [
            "(1, 2, 3, 4, 5, 6, 7, 8, 9, 10)\n",
            "<class 'tuple'>\n"
          ]
        }
      ]
    },
    {
      "cell_type": "code",
      "source": [
        "num = tuple(range(1,11))\n",
        "print(num)"
      ],
      "metadata": {
        "colab": {
          "base_uri": "https://localhost:8080/"
        },
        "id": "1LftC-RjlBja",
        "outputId": "77806723-e93b-49e7-86d8-e64f25883a04"
      },
      "execution_count": null,
      "outputs": [
        {
          "output_type": "stream",
          "name": "stdout",
          "text": [
            "(1, 2, 3, 4, 5, 6, 7, 8, 9, 10)\n"
          ]
        }
      ]
    },
    {
      "cell_type": "code",
      "source": [
        "### Assignment 2: Accessing Tuple Elements\\n\",\n",
        "### \"Print the first, middle, and last elements of the tuple created in Assignment 1."
      ],
      "metadata": {
        "id": "33vZZOTdl0pU"
      },
      "execution_count": null,
      "outputs": []
    },
    {
      "cell_type": "code",
      "source": [
        "print(f\"first element: {num[0]}\")\n",
        "middle_element= [len(num) // 2]\n",
        "print(f\"middle element: {middle_element}\")\n",
        "print(f\"last element: {num[-1]}\")"
      ],
      "metadata": {
        "colab": {
          "base_uri": "https://localhost:8080/"
        },
        "id": "8ZHOXUyamNm2",
        "outputId": "e2fe5249-a66f-4ab1-885d-2a3d4be4de0b"
      },
      "execution_count": null,
      "outputs": [
        {
          "output_type": "stream",
          "name": "stdout",
          "text": [
            "first element: 1\n",
            "middle element: [5]\n",
            "last element: 10\n"
          ]
        }
      ]
    },
    {
      "cell_type": "code",
      "source": [
        "## Assignment 3: Tuple Slicing\\n\",\n",
        "## Print the first three elements, the last three elements, and the elements from index 2 to 5 of the tuple created in Assignment 1."
      ],
      "metadata": {
        "id": "TlhQbOphnQ2Y"
      },
      "execution_count": null,
      "outputs": []
    },
    {
      "cell_type": "code",
      "source": [
        "print(F\"first three items: {num[0:3]}\")\n",
        "## print(F\"last three items: {num[7:11]}\")\n",
        "print(F\"last three items: {num[-3:]}\")\n",
        "print(F\"from index 2 to 5 items: {num[2:6]}\")"
      ],
      "metadata": {
        "colab": {
          "base_uri": "https://localhost:8080/"
        },
        "id": "w1JofS8OnY5w",
        "outputId": "c66375f0-7f59-4442-878c-3100fc185318"
      },
      "execution_count": null,
      "outputs": [
        {
          "output_type": "stream",
          "name": "stdout",
          "text": [
            "first three items: (1, 2, 3)\n",
            "last three items: (8, 9, 10)\n",
            "last three items: (8, 9, 10)\n",
            "from index 2 to 5 items: (3, 4, 5, 6)\n"
          ]
        }
      ]
    },
    {
      "cell_type": "code",
      "source": [
        "### Assignment 4: Nested Tuples\\n\",\n",
        "## \"Create a nested tuple representing a 3x3 matrix and print the matrix. Access and print the element at the second row and third column."
      ],
      "metadata": {
        "id": "Y-DfEDlAn7WT"
      },
      "execution_count": null,
      "outputs": []
    },
    {
      "cell_type": "code",
      "source": [
        "nested_tup = (\n",
        "    tuple(range(1,4)),\n",
        "    tuple(range(4,7)),\n",
        "    tuple(range(7,10))\n",
        ")\n",
        "print(nested_tup)\n",
        "print(nested_tup[1][2])"
      ],
      "metadata": {
        "colab": {
          "base_uri": "https://localhost:8080/"
        },
        "id": "oIfW1k5roSxF",
        "outputId": "44a01d21-471a-4400-e6ad-01a033e27e13"
      },
      "execution_count": null,
      "outputs": [
        {
          "output_type": "stream",
          "name": "stdout",
          "text": [
            "((1, 2, 3), (4, 5, 6), (7, 8, 9))\n",
            "6\n"
          ]
        }
      ]
    },
    {
      "cell_type": "code",
      "source": [
        "nested_tup = (\n",
        "    (1,2,3),\n",
        "    (4,5,6),\n",
        "    (7,8,9)\n",
        ")\n",
        "print(nested_tup)\n",
        "print(nested_tup[1][2])"
      ],
      "metadata": {
        "colab": {
          "base_uri": "https://localhost:8080/"
        },
        "id": "CuwNahmcoUPo",
        "outputId": "22e79d9b-6cea-40a2-90e5-30d5c18344a7"
      },
      "execution_count": null,
      "outputs": [
        {
          "output_type": "stream",
          "name": "stdout",
          "text": [
            "((1, 2, 3), (4, 5, 6), (7, 8, 9))\n",
            "6\n"
          ]
        }
      ]
    },
    {
      "cell_type": "code",
      "source": [
        "## Assignment 5: Tuple Concatenation\\n\",\n",
        "## \"Concatenate two tuples: (1, 2, 3) and (4, 5, 6). Print the resulting tuple"
      ],
      "metadata": {
        "id": "tQJDUWtCoUMR"
      },
      "execution_count": null,
      "outputs": []
    },
    {
      "cell_type": "code",
      "source": [
        "tup_1 = (1,2,3)\n",
        "tup_2 = (4,5,6)\n",
        "conc_tup = tup_1 + tup_2\n",
        "print(conc_tup)"
      ],
      "metadata": {
        "colab": {
          "base_uri": "https://localhost:8080/"
        },
        "id": "1IiE1_CNoUJm",
        "outputId": "73e671a4-5d77-4bfe-9ccb-0f663e052a06"
      },
      "execution_count": null,
      "outputs": [
        {
          "output_type": "stream",
          "name": "stdout",
          "text": [
            "(1, 2, 3, 4, 5, 6)\n"
          ]
        }
      ]
    },
    {
      "cell_type": "code",
      "source": [
        "## Assignment 6: Tuple Methods\\n\",\n",
        "## \"Create a tuple with duplicate elements and count the occurrences of an element. Find the index of the first occurrence of an element in the tuple."
      ],
      "metadata": {
        "id": "SAk_30qvpzKu"
      },
      "execution_count": null,
      "outputs": []
    },
    {
      "cell_type": "code",
      "source": [
        "# Create a tuple with duplicate elements\n",
        "tup = (1, 2, 2, 3, 3, 3, 4, 4, 4, 4, 5, 5, 5, 5, 5)\n",
        "\n",
        "# Print the type of 'tup'\n",
        "print(type(tup))\n",
        "\n",
        "# Iterate through the tuple and print the count and first occurrence for each unique element\n",
        "for i in set(tup):  # Using set to avoid repeating the same element\n",
        "    count = tup.count(i)  # Count the occurrences of the element\n",
        "    first_index = tup.index(i)  # Find the index of the first occurrence\n",
        "    print(f\"Occurrence/frequency of {i}: {count}, First occurrence at index: {first_index}\")\n"
      ],
      "metadata": {
        "colab": {
          "base_uri": "https://localhost:8080/"
        },
        "id": "lTQhHLRDpzHA",
        "outputId": "3a0a6bb7-5f6f-4584-8167-404ab7932623"
      },
      "execution_count": null,
      "outputs": [
        {
          "output_type": "stream",
          "name": "stdout",
          "text": [
            "<class 'tuple'>\n",
            "Occurrence/frequency of 1: 1, First occurrence at index: 0\n",
            "Occurrence/frequency of 2: 2, First occurrence at index: 1\n",
            "Occurrence/frequency of 3: 3, First occurrence at index: 3\n",
            "Occurrence/frequency of 4: 4, First occurrence at index: 6\n",
            "Occurrence/frequency of 5: 5, First occurrence at index: 10\n"
          ]
        }
      ]
    },
    {
      "cell_type": "code",
      "source": [
        "print(f\"number of repetetion of 3 is : {tup.count(3)}\")\n",
        "print(f\"first occurance of number 3 is : {tup.index(3)}\")"
      ],
      "metadata": {
        "colab": {
          "base_uri": "https://localhost:8080/"
        },
        "id": "SHohzFMQpzE-",
        "outputId": "8ebe6a81-0bdd-4965-f123-e48d31754db7"
      },
      "execution_count": null,
      "outputs": [
        {
          "output_type": "stream",
          "name": "stdout",
          "text": [
            "number of repetetion of 3 is : 3\n",
            "first occurance of number 3 is : 3\n"
          ]
        }
      ]
    },
    {
      "cell_type": "code",
      "source": [
        "for i in set(tup):\n",
        "  count = tup.count(i)\n",
        "  index = tup.index(i)\n",
        "  print(f\"number of repetetion of {i} is : {count}\")\n",
        "  print(f\"first occurance of number {i} is : {index}\")"
      ],
      "metadata": {
        "colab": {
          "base_uri": "https://localhost:8080/"
        },
        "id": "JikK3j1GpzCh",
        "outputId": "f010317c-8089-4d66-fe20-1ded2b8fac21"
      },
      "execution_count": null,
      "outputs": [
        {
          "output_type": "stream",
          "name": "stdout",
          "text": [
            "number of repetetion of 1 is : 1\n",
            "first occurance of number 1 is : 0\n",
            "number of repetetion of 2 is : 2\n",
            "first occurance of number 2 is : 1\n",
            "number of repetetion of 3 is : 3\n",
            "first occurance of number 3 is : 3\n",
            "number of repetetion of 4 is : 4\n",
            "first occurance of number 4 is : 6\n",
            "number of repetetion of 5 is : 5\n",
            "first occurance of number 5 is : 10\n"
          ]
        }
      ]
    },
    {
      "cell_type": "code",
      "source": [
        "## Assignment 7: Unpacking Tuples\\n\",\n",
        "## \"Create a tuple with 5 elements and unpack it into 5 variables. Print the variables."
      ],
      "metadata": {
        "id": "BkWd_Z38py__"
      },
      "execution_count": null,
      "outputs": []
    },
    {
      "cell_type": "code",
      "source": [
        "packing = \"cock\",\"suck\",\"dick\",\"lund\"\n",
        "print(packing)\n",
        "\n",
        "a,b,c,d =packing\n",
        "print(a)\n",
        "print(b)\n",
        "print(c)\n",
        "print(d)\n"
      ],
      "metadata": {
        "colab": {
          "base_uri": "https://localhost:8080/"
        },
        "id": "hnN4l59QsQXn",
        "outputId": "25b4bde7-24e1-4c67-b58a-426d74210b6e"
      },
      "execution_count": null,
      "outputs": [
        {
          "output_type": "stream",
          "name": "stdout",
          "text": [
            "('cock', 'suck', 'dick', 'lund')\n",
            "cock\n",
            "suck\n",
            "dick\n",
            "lund\n"
          ]
        }
      ]
    },
    {
      "cell_type": "code",
      "source": [
        "## Assignment 8: Tuple Conversion\\n\",\n",
        "##\"Convert a list of the first 5 positive integers to a tuple. Print the tup"
      ],
      "metadata": {
        "id": "dqgTTqyjs_AY"
      },
      "execution_count": null,
      "outputs": []
    },
    {
      "cell_type": "code",
      "source": [
        "import numpy as np\n",
        "import random\n",
        "\n",
        "lst = np.random.randint(1,500,5)\n",
        "print(lst)\n",
        "\n",
        "tup = tuple(lst)\n",
        "print(tup)"
      ],
      "metadata": {
        "colab": {
          "base_uri": "https://localhost:8080/"
        },
        "id": "UqBBBmZItFbv",
        "outputId": "283dc4c0-d044-431a-95e2-b0a5c0199287"
      },
      "execution_count": null,
      "outputs": [
        {
          "output_type": "stream",
          "name": "stdout",
          "text": [
            "[189 265 362 391 443]\n",
            "(189, 265, 362, 391, 443)\n"
          ]
        }
      ]
    },
    {
      "cell_type": "code",
      "source": [
        "## Assignment 9: Tuple of Tuples\\n\",\n",
        "##  \"Create a tuple containing 3 tuples, each with 3 elements. Print the tuple of tuples."
      ],
      "metadata": {
        "id": "gHxEPUlSxDg5"
      },
      "execution_count": null,
      "outputs": []
    },
    {
      "cell_type": "code",
      "source": [
        "tup = (\n",
        "    (1,2,3),\n",
        "    (4,5,6),\n",
        "    (7,8,9)\n",
        ")\n",
        "print(tup)"
      ],
      "metadata": {
        "colab": {
          "base_uri": "https://localhost:8080/"
        },
        "id": "cxQjlucexGPF",
        "outputId": "cd526b11-5dfb-42f1-d5ff-6696681e519f"
      },
      "execution_count": null,
      "outputs": [
        {
          "output_type": "stream",
          "name": "stdout",
          "text": [
            "((1, 2, 3), (4, 5, 6), (7, 8, 9))\n"
          ]
        }
      ]
    },
    {
      "cell_type": "code",
      "source": [
        "# Assignment 10: Tuple and List\\n\",\n",
        "##  \"Create a tuple with the first 5 positive integers. Convert it to a list, append the number 6, and convert it back to a tuple. Print the resulting tuple"
      ],
      "metadata": {
        "id": "Jlwx3lWfxyOH"
      },
      "execution_count": null,
      "outputs": []
    },
    {
      "cell_type": "code",
      "source": [
        "tup = tuple(range(1,6))\n",
        "print(tup)\n",
        "\n",
        "#  Convert it to a list, append the number 6, and convert it back to a tuple. Print the resulting tuple\n",
        "lst = list(tup)\n",
        "lst.append(6)\n",
        "print(lst)\n",
        "\n",
        "tup= tuple(lst)\n",
        "print(tup)"
      ],
      "metadata": {
        "colab": {
          "base_uri": "https://localhost:8080/"
        },
        "id": "kg6tTepRx0Vd",
        "outputId": "3dd3ca84-70dc-4cf9-ca16-83959bc9c306"
      },
      "execution_count": null,
      "outputs": [
        {
          "output_type": "stream",
          "name": "stdout",
          "text": [
            "(1, 2, 3, 4, 5)\n",
            "[1, 2, 3, 4, 5, 6]\n",
            "(1, 2, 3, 4, 5, 6)\n"
          ]
        }
      ]
    },
    {
      "cell_type": "code",
      "source": [
        "## Assignment 11: Tuple and String\\n\",\n",
        "##  Create a tuple with the characters of a string. Join the tuple elements into a single string. Print the string."
      ],
      "metadata": {
        "id": "TFPUbjtzx9BB"
      },
      "execution_count": null,
      "outputs": []
    },
    {
      "cell_type": "code",
      "source": [
        "tup =  (\"rk\", \"bosh\" , \"md\", \"mf\")\n",
        "\n",
        "str = \"\".join(tup)\n",
        "print(str)"
      ],
      "metadata": {
        "colab": {
          "base_uri": "https://localhost:8080/"
        },
        "id": "uYwCJKuLymiT",
        "outputId": "02407ffc-0a29-44a6-c915-53bd00e8e228"
      },
      "execution_count": null,
      "outputs": [
        {
          "output_type": "stream",
          "name": "stdout",
          "text": [
            "rkboshmdmf\n"
          ]
        }
      ]
    },
    {
      "cell_type": "code",
      "source": [
        "### Assignment 12: Tuple and Dictionary\\n\",\n",
        "## \"Create a dictionary with tuple keys and integer values. Print the dictionary"
      ],
      "metadata": {
        "id": "b-HcDj83zRQx"
      },
      "execution_count": null,
      "outputs": []
    },
    {
      "cell_type": "code",
      "source": [
        "dict = {\n",
        "    (\"a\"):1,\n",
        "    (\"b\"):2\n",
        "}\n",
        "print(dict)"
      ],
      "metadata": {
        "colab": {
          "base_uri": "https://localhost:8080/"
        },
        "id": "o1w8kpnTzdlb",
        "outputId": "f5af89a9-aa0c-4a77-c9e5-f5be46ee28c4"
      },
      "execution_count": null,
      "outputs": [
        {
          "output_type": "stream",
          "name": "stdout",
          "text": [
            "{'a': 1, 'b': 2}\n"
          ]
        }
      ]
    },
    {
      "cell_type": "code",
      "source": [
        "## Assignment 13: Nested Tuple Iteration\\n\",\n",
        "## \"Create a nested tuple and iterate over the elements, printing each element"
      ],
      "metadata": {
        "id": "sEAOQhgvz-IS"
      },
      "execution_count": null,
      "outputs": []
    },
    {
      "cell_type": "code",
      "source": [
        "tup = (\n",
        "    (1,2,3),\n",
        "    (4,5,6),\n",
        "    (7,8,9)\n",
        ")\n",
        "print(tup)\n",
        "for i in tup:\n",
        "  for j in i:\n",
        "    print(j)"
      ],
      "metadata": {
        "colab": {
          "base_uri": "https://localhost:8080/"
        },
        "id": "3Oy3br4Oz-E4",
        "outputId": "391c7519-0ebf-407d-df6e-da70e5c78d63"
      },
      "execution_count": null,
      "outputs": [
        {
          "output_type": "stream",
          "name": "stdout",
          "text": [
            "((1, 2, 3), (4, 5, 6), (7, 8, 9))\n",
            "1\n",
            "2\n",
            "3\n",
            "4\n",
            "5\n",
            "6\n",
            "7\n",
            "8\n",
            "9\n"
          ]
        }
      ]
    },
    {
      "cell_type": "code",
      "source": [
        "## Assignment 14: Tuple and Set\\n\",\n",
        "## \"Create a tuple with duplicate elements. Convert it to a set to remove duplicates and print the resulting set"
      ],
      "metadata": {
        "id": "OI_MzgBwz-CG"
      },
      "execution_count": null,
      "outputs": []
    },
    {
      "cell_type": "code",
      "source": [
        "tup = (1, 2, 2, 3, 3, 3, 4, 4, 4, 4, 5, 5, 5, 5, 5)\n",
        "print(tup)\n",
        "\n",
        "tup_to_set = set(tup)\n",
        "print(tup_to_set)"
      ],
      "metadata": {
        "colab": {
          "base_uri": "https://localhost:8080/"
        },
        "id": "_TRlmwykz9_n",
        "outputId": "d96c7954-7674-4941-e7f2-6277e45eda21"
      },
      "execution_count": null,
      "outputs": [
        {
          "output_type": "stream",
          "name": "stdout",
          "text": [
            "(1, 2, 2, 3, 3, 3, 4, 4, 4, 4, 5, 5, 5, 5, 5)\n",
            "{1, 2, 3, 4, 5}\n"
          ]
        }
      ]
    },
    {
      "cell_type": "code",
      "source": [
        "## Assignment 15: Tuple Functions\\n\",\n",
        "##\"Write functions that take a tuple and return the minimum, maximum, and sum of the elements. Print the results for a sample tuple."
      ],
      "metadata": {
        "id": "MXD4y7gn0r4h"
      },
      "execution_count": null,
      "outputs": []
    },
    {
      "cell_type": "code",
      "source": [
        "sample_tup = (10,20,30)\n",
        "def min_in_tup(tup):\n",
        "  return min(tup)\n",
        "print(min_in_tup(sample_tup))\n",
        "\n",
        "def max_in_tup(tup):\n",
        "  return max(tup)\n",
        "print(max_in_tup(sample_tup))\n",
        "\n",
        "\n",
        "def sum_of_tup(tup):\n",
        "  return sum(tup)\n",
        "print(sum_of_tup(sample_tup))\n",
        "\n"
      ],
      "metadata": {
        "colab": {
          "base_uri": "https://localhost:8080/"
        },
        "id": "MKtd8SqE0ttI",
        "outputId": "769e7350-5aa2-4ff4-e150-0caa2cb7ac84"
      },
      "execution_count": null,
      "outputs": [
        {
          "output_type": "stream",
          "name": "stdout",
          "text": [
            "10\n",
            "30\n",
            "60\n"
          ]
        }
      ]
    },
    {
      "cell_type": "markdown",
      "source": [
        "# ***`sets`***"
      ],
      "metadata": {
        "id": "rBzUNi7V12Ar"
      }
    },
    {
      "cell_type": "code",
      "source": [
        "## Assignment 1: Creating and Accessing Sets\\n\",\n",
        "\n",
        "## Create a set with the first 10 positive integers. Print the set."
      ],
      "metadata": {
        "id": "vcnjofM516hE"
      },
      "execution_count": null,
      "outputs": []
    },
    {
      "cell_type": "code",
      "source": [
        "num = set(range(1,11))\n",
        "print(num)\n",
        "print(type(num))"
      ],
      "metadata": {
        "colab": {
          "base_uri": "https://localhost:8080/"
        },
        "id": "pDkwKj_o2XtR",
        "outputId": "89d41fcd-5073-479c-dd6b-ef89af2dd422"
      },
      "execution_count": null,
      "outputs": [
        {
          "output_type": "stream",
          "name": "stdout",
          "text": [
            "{1, 2, 3, 4, 5, 6, 7, 8, 9, 10}\n",
            "<class 'set'>\n"
          ]
        }
      ]
    },
    {
      "cell_type": "code",
      "source": [
        "### Assignment 2: Adding and Removing Elements\\n\",\n",
        "## \"Add the number 11 to the set created in Assignment 1. Then remove the number 1 from the set. Print the modified set.\""
      ],
      "metadata": {
        "id": "ob1TtYJW2j9G"
      },
      "execution_count": null,
      "outputs": []
    },
    {
      "cell_type": "code",
      "source": [
        "num.add(11)\n",
        "num.remove(1)\n",
        "print(num)"
      ],
      "metadata": {
        "colab": {
          "base_uri": "https://localhost:8080/"
        },
        "id": "AWyxofRm2j5i",
        "outputId": "89b47077-29b3-4a98-aed6-443f39b8e0fe"
      },
      "execution_count": null,
      "outputs": [
        {
          "output_type": "stream",
          "name": "stdout",
          "text": [
            "{2, 3, 4, 5, 6, 7, 8, 9, 10, 11}\n"
          ]
        }
      ]
    },
    {
      "cell_type": "code",
      "source": [
        "### Assignment 3: Set Operations\\n\",\n",
        "## Create two sets: one with the first 5 positive integers and another with the first 5 even integers. Perform and print the results of union,\n",
        "##intersection, difference, and symmetric difference operations on these sets.\""
      ],
      "metadata": {
        "id": "_pnISaYr2j00"
      },
      "execution_count": null,
      "outputs": []
    },
    {
      "cell_type": "code",
      "source": [
        "st1 = set(range(1,6))\n",
        "st2 = set(range(2,11,2))\n",
        "\n",
        "print(st1)\n",
        "print(st2)\n",
        "\n",
        "print(f\"union: {st1.union(st2)}\")\n",
        "print(f\"intersection: {st1.intersection(st2)}\")\n",
        "print(f\"difference: {st1.difference(st2)}\")\n",
        "print(f\"symmetric_difference: {st1.symmetric_difference(st2)}\")"
      ],
      "metadata": {
        "colab": {
          "base_uri": "https://localhost:8080/"
        },
        "id": "NYDTr-gb28hp",
        "outputId": "cfdb7fcd-752a-4b6b-e342-0144f8063a98"
      },
      "execution_count": null,
      "outputs": [
        {
          "output_type": "stream",
          "name": "stdout",
          "text": [
            "{1, 2, 3, 4, 5}\n",
            "{2, 4, 6, 8, 10}\n",
            "union: {1, 2, 3, 4, 5, 6, 8, 10}\n",
            "intersection: {2, 4}\n",
            "difference: {1, 3, 5}\n",
            "symmetric_difference: {1, 3, 5, 6, 8, 10}\n"
          ]
        }
      ]
    },
    {
      "cell_type": "code",
      "source": [
        "## Assignment 4: Set Comprehensions\\n\",\n",
        "## \"Create a new set containing the squares of the first 10 positive integers using a set comprehension. Print the new set.\""
      ],
      "metadata": {
        "id": "VZBlwYHw5WYC"
      },
      "execution_count": null,
      "outputs": []
    },
    {
      "cell_type": "code",
      "source": [
        "sqr = set(x**2 for x in range (1,11))\n",
        "print(sqr)"
      ],
      "metadata": {
        "colab": {
          "base_uri": "https://localhost:8080/"
        },
        "id": "T-8-SQGK5YNm",
        "outputId": "2848b1e2-7037-4c10-917e-083984c3dcd5"
      },
      "execution_count": null,
      "outputs": [
        {
          "output_type": "stream",
          "name": "stdout",
          "text": [
            "{64, 1, 4, 36, 100, 9, 16, 49, 81, 25}\n"
          ]
        }
      ]
    },
    {
      "cell_type": "code",
      "source": [
        "### Assignment 5: Filtering Sets\\n\",\n",
        "##  \"Create a new set containing only the even numbers from the set created in Assignment 1 using a set comprehension. Print the new set.\"\n"
      ],
      "metadata": {
        "id": "gI8uynzB5we-"
      },
      "execution_count": null,
      "outputs": []
    },
    {
      "cell_type": "code",
      "source": [
        "num = set(range(1,11))\n",
        "even_num = set(x for x in num if x%2==0)\n",
        "print(even_num)"
      ],
      "metadata": {
        "colab": {
          "base_uri": "https://localhost:8080/"
        },
        "id": "TzEVMrqi53P7",
        "outputId": "d2a1362b-36b4-47bf-ae96-b9979e2bf286"
      },
      "execution_count": null,
      "outputs": [
        {
          "output_type": "stream",
          "name": "stdout",
          "text": [
            "{2, 4, 6, 8, 10}\n"
          ]
        }
      ]
    },
    {
      "cell_type": "code",
      "source": [
        "## Assignment 6: Set Methods\\n\",\n",
        "## \"Create a set with duplicate elements and remove the duplicates using set methods. Print the modified set"
      ],
      "metadata": {
        "id": "jC8syKZe6LGM"
      },
      "execution_count": null,
      "outputs": []
    },
    {
      "cell_type": "code",
      "source": [
        "st = {1,2,2,3,3,5,5,6,7,8,9,4,8,2,9,2,8,3,8,4,1,6,8,3,8}\n",
        "st = set(st)\n",
        "print(st)"
      ],
      "metadata": {
        "colab": {
          "base_uri": "https://localhost:8080/"
        },
        "id": "hNhDbbu96RLF",
        "outputId": "e2d97e76-e8c2-45b5-cab9-d759e30ae928"
      },
      "execution_count": null,
      "outputs": [
        {
          "output_type": "stream",
          "name": "stdout",
          "text": [
            "{1, 2, 3, 4, 5, 6, 7, 8, 9}\n"
          ]
        }
      ]
    },
    {
      "cell_type": "code",
      "source": [
        "## Assignment 7: Subsets and Supersets\\n\",\n",
        "\n",
        "  # \"Create two sets: one with the first 5 positive integers and another with the first 3 positive integers.\n",
        "  #Check if the second set is a subset of the first set and if the first set is a superset of the second set. Print the result\n"
      ],
      "metadata": {
        "id": "l6idZGxh6d5q"
      },
      "execution_count": null,
      "outputs": []
    },
    {
      "cell_type": "code",
      "source": [
        "st1 = set(range(1,6))\n",
        "st2 = set (range(1,4))\n",
        "print(st1)\n",
        "print(st2)\n",
        "\n",
        "print(st2.issubset(st1))\n",
        "print(st1.issuperset(st2))"
      ],
      "metadata": {
        "colab": {
          "base_uri": "https://localhost:8080/"
        },
        "id": "WRqc9XAL6jmr",
        "outputId": "1b6d6bcf-8cc5-440f-9631-af3980837148"
      },
      "execution_count": null,
      "outputs": [
        {
          "output_type": "stream",
          "name": "stdout",
          "text": [
            "{1, 2, 3, 4, 5}\n",
            "{1, 2, 3}\n",
            "True\n",
            "True\n"
          ]
        }
      ]
    },
    {
      "cell_type": "code",
      "source": [
        "## Assignment 8: Frozenset\\n\",\n",
        "## \"Create a frozenset with the first 5 positive integers. Print the frozenset"
      ],
      "metadata": {
        "id": "Gbg48UbN7kB1"
      },
      "execution_count": null,
      "outputs": []
    },
    {
      "cell_type": "code",
      "source": [
        "fs = frozenset(range(1,6))\n",
        "print(fs)\n",
        "print(type(fs))"
      ],
      "metadata": {
        "colab": {
          "base_uri": "https://localhost:8080/"
        },
        "id": "sltZYJWH7mIY",
        "outputId": "33b0e011-46f6-48ff-9a36-3fd1394f47a4"
      },
      "execution_count": null,
      "outputs": [
        {
          "output_type": "stream",
          "name": "stdout",
          "text": [
            "frozenset({1, 2, 3, 4, 5})\n",
            "<class 'frozenset'>\n"
          ]
        }
      ]
    },
    {
      "cell_type": "code",
      "source": [
        "## Assignment 9: Set and List Conversion\\n\",\n",
        "##    \"Create a set with the first 5 positive integers. Convert it to a list, append the number 6, and convert it back to a set. Print the resulting set.\"\n"
      ],
      "metadata": {
        "id": "QNOes9iK7zTe"
      },
      "execution_count": null,
      "outputs": []
    },
    {
      "cell_type": "code",
      "source": [
        "st = {1,2,3,4,5}\n",
        "print(type(st))\n",
        "print(st)\n",
        "\n",
        "lst =list(st)\n",
        "print(lst)\n",
        "\n",
        "lst.append(6)\n",
        "print(lst)\n",
        "\n",
        "st= set(lst)\n",
        "print(st)"
      ],
      "metadata": {
        "colab": {
          "base_uri": "https://localhost:8080/"
        },
        "id": "vOhq_Mgg8BL1",
        "outputId": "17fda626-8104-4fa5-c227-5ae7096a10b3"
      },
      "execution_count": null,
      "outputs": [
        {
          "output_type": "stream",
          "name": "stdout",
          "text": [
            "<class 'set'>\n",
            "{1, 2, 3, 4, 5}\n",
            "[1, 2, 3, 4, 5]\n",
            "[1, 2, 3, 4, 5, 6]\n",
            "{1, 2, 3, 4, 5, 6}\n"
          ]
        }
      ]
    },
    {
      "cell_type": "code",
      "source": [
        "## Assignment 10: Set and Dictionary\\n\",\n",
        "## \"Create a dictionary with set keys and integer values. Print the dictionary."
      ],
      "metadata": {
        "id": "YyUunyT-8ocB"
      },
      "execution_count": null,
      "outputs": []
    },
    {
      "cell_type": "code",
      "source": [
        "dict = {\n",
        "    frozenset({1,2,3}):\"x\",\n",
        "    frozenset({4,5,6}):\"y\"\n",
        "}\n",
        "print(dict)"
      ],
      "metadata": {
        "colab": {
          "base_uri": "https://localhost:8080/"
        },
        "id": "JPNF-TIu8twb",
        "outputId": "de3e310e-944d-485a-ae05-54dad001155f"
      },
      "execution_count": null,
      "outputs": [
        {
          "output_type": "stream",
          "name": "stdout",
          "text": [
            "{frozenset({1, 2, 3}): 'x', frozenset({4, 5, 6}): 'y'}\n"
          ]
        }
      ]
    },
    {
      "cell_type": "code",
      "source": [
        "## Assignment 11: Iterating Over Sets\\n\",\n",
        "## \"Create a set and iterate over the elements, printing each element."
      ],
      "metadata": {
        "id": "W2mEyYex9Uyw"
      },
      "execution_count": null,
      "outputs": []
    },
    {
      "cell_type": "code",
      "source": [
        "st = set(range(1,11))\n",
        "for i in st:\n",
        "  print(i)"
      ],
      "metadata": {
        "colab": {
          "base_uri": "https://localhost:8080/"
        },
        "id": "32-FBAal9bpE",
        "outputId": "b3ad2cbb-199e-4583-f5da-89208d1e1888"
      },
      "execution_count": null,
      "outputs": [
        {
          "output_type": "stream",
          "name": "stdout",
          "text": [
            "1\n",
            "2\n",
            "3\n",
            "4\n",
            "5\n",
            "6\n",
            "7\n",
            "8\n",
            "9\n",
            "10\n"
          ]
        }
      ]
    },
    {
      "cell_type": "code",
      "source": [
        "## Assignment 12: Removing Elements from Sets\\n\",\n",
        "##\"Create a set and remove elements from it until it is empty. Print the set after each removal"
      ],
      "metadata": {
        "id": "TgGS7J579oCF"
      },
      "execution_count": null,
      "outputs": []
    },
    {
      "cell_type": "code",
      "source": [
        "while st:\n",
        "  removed_element = st.pop()\n",
        "  print(f\"removed element: {removed_element}, set after removed element: {st}\")"
      ],
      "metadata": {
        "colab": {
          "base_uri": "https://localhost:8080/"
        },
        "id": "riEuFR5n9sE_",
        "outputId": "04e3cc27-a204-4868-f2f2-f31693afd5bb"
      },
      "execution_count": null,
      "outputs": [
        {
          "output_type": "stream",
          "name": "stdout",
          "text": [
            "removed element: 1, set after removed element: {2, 3, 4, 5, 6, 7, 8, 9, 10}\n",
            "removed element: 2, set after removed element: {3, 4, 5, 6, 7, 8, 9, 10}\n",
            "removed element: 3, set after removed element: {4, 5, 6, 7, 8, 9, 10}\n",
            "removed element: 4, set after removed element: {5, 6, 7, 8, 9, 10}\n",
            "removed element: 5, set after removed element: {6, 7, 8, 9, 10}\n",
            "removed element: 6, set after removed element: {7, 8, 9, 10}\n",
            "removed element: 7, set after removed element: {8, 9, 10}\n",
            "removed element: 8, set after removed element: {9, 10}\n",
            "removed element: 9, set after removed element: {10}\n",
            "removed element: 10, set after removed element: set()\n"
          ]
        }
      ]
    },
    {
      "cell_type": "code",
      "source": [
        "## Assignment 13: Set Symmetric Difference Update\\n\",\n",
        "##    \"Create two sets and update the first set with the symmetric difference of the two sets. Print the modified first set.\"\n"
      ],
      "metadata": {
        "id": "zMWsJkZl-6JJ"
      },
      "execution_count": null,
      "outputs": []
    },
    {
      "cell_type": "code",
      "source": [
        "st1 = set(range(1,11))\n",
        "st2 =set(range(1,11,2))\n",
        "print(st1)\n",
        "print(st2)\n",
        "\n",
        "st1.symmetric_difference_update(st2)\n",
        "print(st1)"
      ],
      "metadata": {
        "colab": {
          "base_uri": "https://localhost:8080/"
        },
        "id": "FcHaPi1D-_Zq",
        "outputId": "d0cf8cc1-1b0e-455f-ea1e-6a6bad04cd18"
      },
      "execution_count": null,
      "outputs": [
        {
          "output_type": "stream",
          "name": "stdout",
          "text": [
            "{1, 2, 3, 4, 5, 6, 7, 8, 9, 10}\n",
            "{1, 3, 5, 7, 9}\n",
            "{2, 4, 6, 8, 10}\n"
          ]
        }
      ]
    },
    {
      "cell_type": "code",
      "source": [
        "## Assignment 14: Set Membership Testing\\n\",\n",
        "## \"Create a set and test if certain elements are present in the set. Print the results.\""
      ],
      "metadata": {
        "id": "PSWGwoym_o7l"
      },
      "execution_count": null,
      "outputs": []
    },
    {
      "cell_type": "code",
      "source": [
        "num =  {1,2,3,5,6,4,7,8,9}\n",
        "print(3 in num)\n",
        "print(99 in num)"
      ],
      "metadata": {
        "colab": {
          "base_uri": "https://localhost:8080/"
        },
        "id": "G4onueqe_o4I",
        "outputId": "99862d25-12dc-4c36-a66a-f9b6c5ecbf8c"
      },
      "execution_count": null,
      "outputs": [
        {
          "output_type": "stream",
          "name": "stdout",
          "text": [
            "True\n",
            "False\n"
          ]
        }
      ]
    },
    {
      "cell_type": "code",
      "source": [
        "## Assignment 15: Set of Tuples\\n\",\n",
        "## \"Create a set containing tuples, where each tuple contains two elements. Print the set.\""
      ],
      "metadata": {
        "id": "NvnGpt9j_o1h"
      },
      "execution_count": null,
      "outputs": []
    },
    {
      "cell_type": "code",
      "source": [
        "st = {(1,2),(2,3),(3,4)}\n",
        "print(st)"
      ],
      "metadata": {
        "colab": {
          "base_uri": "https://localhost:8080/"
        },
        "id": "2l8t-LKv_oy8",
        "outputId": "78a0748f-1a03-4a80-99aa-ff94c4260147"
      },
      "execution_count": null,
      "outputs": [
        {
          "output_type": "stream",
          "name": "stdout",
          "text": [
            "{(2, 3), (1, 2), (3, 4)}\n"
          ]
        }
      ]
    },
    {
      "cell_type": "markdown",
      "source": [
        "# ***Dictionaries***"
      ],
      "metadata": {
        "id": "24r84y9VALgu"
      }
    },
    {
      "cell_type": "code",
      "source": [
        "# Assignment 1: Creating and Accessing Dictionaries\\n\",\n",
        "##  \"Create a dictionary with the first 10 positive integers as keys and their squares as values. Print the dictionary"
      ],
      "metadata": {
        "id": "pXwRKJWvAOIX"
      },
      "execution_count": null,
      "outputs": []
    },
    {
      "cell_type": "code",
      "source": [
        "dict =  { x: x**2 for x in range(11)}\n",
        "print(dict)\n",
        "print(type(dict))"
      ],
      "metadata": {
        "colab": {
          "base_uri": "https://localhost:8080/"
        },
        "id": "5K4nNByYAk1m",
        "outputId": "dff1d372-af78-4d2d-8b66-1a55999719c6"
      },
      "execution_count": null,
      "outputs": [
        {
          "output_type": "stream",
          "name": "stdout",
          "text": [
            "{0: 0, 1: 1, 2: 4, 3: 9, 4: 16, 5: 25, 6: 36, 7: 49, 8: 64, 9: 81, 10: 100}\n",
            "<class 'dict'>\n"
          ]
        }
      ]
    },
    {
      "cell_type": "code",
      "source": [
        "## Assignment 2: Accessing Dictionary Elements\\n\",\n",
        "## \"Print the value of the key 5 and the keys of the dictionary created in Assignment 1"
      ],
      "metadata": {
        "id": "JK_b32c5BXro"
      },
      "execution_count": null,
      "outputs": []
    },
    {
      "cell_type": "code",
      "source": [
        "print(dict[5])\n"
      ],
      "metadata": {
        "colab": {
          "base_uri": "https://localhost:8080/"
        },
        "id": "q_hTKxiiBcrE",
        "outputId": "b30a90e7-6892-4f4e-fe53-2f4e126db724"
      },
      "execution_count": null,
      "outputs": [
        {
          "output_type": "stream",
          "name": "stdout",
          "text": [
            "25\n"
          ]
        }
      ]
    },
    {
      "cell_type": "code",
      "source": [
        "## Assignment 3: Dictionary Methods\\n\",\n",
        "\n",
        "## \"Add a new key-value pair (11, 121) to the dictionary created in Assignment 1 and then remove the key-value pair with key 1. Print the modified dictionary"
      ],
      "metadata": {
        "id": "dwb9PprGB1cQ"
      },
      "execution_count": null,
      "outputs": []
    },
    {
      "cell_type": "code",
      "source": [
        "dict[11] = 121\n",
        "dict.pop(1)\n",
        "print(dict)"
      ],
      "metadata": {
        "colab": {
          "base_uri": "https://localhost:8080/"
        },
        "id": "EADgJ1DxB4YF",
        "outputId": "0438d28f-48ea-4e97-cb52-390311317554"
      },
      "execution_count": null,
      "outputs": [
        {
          "output_type": "stream",
          "name": "stdout",
          "text": [
            "{0: 0, 2: 4, 3: 9, 4: 16, 5: 25, 6: 36, 7: 49, 8: 64, 9: 81, 10: 100, 11: 121}\n"
          ]
        }
      ]
    },
    {
      "cell_type": "code",
      "source": [
        "## Assignment 4: Iterating Over Dictionaries\\n\",\n",
        "##  \"Iterate over the dictionary created in Assignment 1 and print each key-value pair.\\n\","
      ],
      "metadata": {
        "id": "oEdfaEeICmJZ"
      },
      "execution_count": null,
      "outputs": []
    },
    {
      "cell_type": "code",
      "source": [
        "for items in dict.items():\n",
        "  print(items)"
      ],
      "metadata": {
        "colab": {
          "base_uri": "https://localhost:8080/"
        },
        "id": "iMPp2kBSCqC5",
        "outputId": "6b7a15fc-bb50-483c-ef7d-1fcf6edc5294"
      },
      "execution_count": null,
      "outputs": [
        {
          "output_type": "stream",
          "name": "stdout",
          "text": [
            "(0, 0)\n",
            "(2, 4)\n",
            "(3, 9)\n",
            "(4, 16)\n",
            "(5, 25)\n",
            "(6, 36)\n",
            "(7, 49)\n",
            "(8, 64)\n",
            "(9, 81)\n",
            "(10, 100)\n",
            "(11, 121)\n"
          ]
        }
      ]
    },
    {
      "cell_type": "code",
      "source": [
        "for key, value in dict.items():\n",
        "  print(f\" {key} :  {value}\")"
      ],
      "metadata": {
        "colab": {
          "base_uri": "https://localhost:8080/"
        },
        "id": "BYI8VndhC12c",
        "outputId": "6fbcd1e8-ed45-4885-acd0-4ef2cac9f18f"
      },
      "execution_count": null,
      "outputs": [
        {
          "output_type": "stream",
          "name": "stdout",
          "text": [
            " 0 :  0\n",
            " 2 :  4\n",
            " 3 :  9\n",
            " 4 :  16\n",
            " 5 :  25\n",
            " 6 :  36\n",
            " 7 :  49\n",
            " 8 :  64\n",
            " 9 :  81\n",
            " 10 :  100\n",
            " 11 :  121\n"
          ]
        }
      ]
    },
    {
      "cell_type": "code",
      "source": [
        "## Assignment 5: Dictionary Comprehensions\\n\",\n",
        "## \"Create a new dictionary containing the cubes of the first 10 positive integers using a dictionary comprehension. Print the new dictionary.\\n\","
      ],
      "metadata": {
        "id": "QMR3q8_gC1zM"
      },
      "execution_count": null,
      "outputs": []
    },
    {
      "cell_type": "code",
      "source": [
        "cube = {x:x**3 for x in range (11)}\n",
        "print(cube)"
      ],
      "metadata": {
        "colab": {
          "base_uri": "https://localhost:8080/"
        },
        "id": "AbcZcJywC1w8",
        "outputId": "09b8cd7c-16ad-472e-8223-5d01fbf82edb"
      },
      "execution_count": null,
      "outputs": [
        {
          "output_type": "stream",
          "name": "stdout",
          "text": [
            "{0: 0, 1: 1, 2: 8, 3: 27, 4: 64, 5: 125, 6: 216, 7: 343, 8: 512, 9: 729, 10: 1000}\n"
          ]
        }
      ]
    },
    {
      "cell_type": "code",
      "source": [
        "## Assignment 6: Merging Dictionaries\\n\",\n",
        "##    \"Create two dictionaries: one with keys as the first 5 positive integers and values as their squares, and another with keys as the next 5 positive integers and values as their squares. Merge these dictionaries into a single dictionary and print it.\\n\",\n"
      ],
      "metadata": {
        "id": "01dIzK6pC1uX"
      },
      "execution_count": null,
      "outputs": []
    },
    {
      "cell_type": "code",
      "source": [
        "dict1 = {x:x**2 for x in range(1,6)}\n",
        "dict2 = {x:x**2 for x in range(6,11)}\n",
        "\n",
        "print(dict1)\n",
        "print(dict2)\n",
        "\n",
        "merged_dict = {**dict1,**dict2}\n",
        "print(merged_dict)"
      ],
      "metadata": {
        "colab": {
          "base_uri": "https://localhost:8080/"
        },
        "id": "LlsgvthPC1rR",
        "outputId": "1cd5cd5c-ef00-4deb-a9bf-01db3d18e55f"
      },
      "execution_count": null,
      "outputs": [
        {
          "output_type": "stream",
          "name": "stdout",
          "text": [
            "{1: 1, 2: 4, 3: 9, 4: 16, 5: 25}\n",
            "{6: 36, 7: 49, 8: 64, 9: 81, 10: 100}\n",
            "{1: 1, 2: 4, 3: 9, 4: 16, 5: 25, 6: 36, 7: 49, 8: 64, 9: 81, 10: 100}\n"
          ]
        }
      ]
    },
    {
      "cell_type": "code",
      "source": [
        "## Assignment 7: Nested Dictionaries\\n\",\n",
        "# \"Create a nested dictionary representing a student with keys 'name', 'age', 'grades', where 'grades' is\n",
        " #   another dictionary with keys 'math', 'science', and 'english'. Print the nested dictionary.\\n\","
      ],
      "metadata": {
        "id": "nMnxrRdjC1pJ"
      },
      "execution_count": null,
      "outputs": []
    },
    {
      "cell_type": "code",
      "source": [
        "std = {\n",
        "    \"name\": \"rk\",\n",
        "    \"age\": 27,\n",
        "    \"grades\":{\n",
        "        \"math\":90,\n",
        "        \"science\":91,\n",
        "        \"english\":92\n",
        "    }\n",
        "}\n",
        "print(std)"
      ],
      "metadata": {
        "colab": {
          "base_uri": "https://localhost:8080/"
        },
        "id": "WEYKNuB1C1m0",
        "outputId": "d8bc3df3-5e08-44b8-9df7-b428fd5c17c5"
      },
      "execution_count": null,
      "outputs": [
        {
          "output_type": "stream",
          "name": "stdout",
          "text": [
            "{'name': 'rk', 'age': 27, 'grades': {'math': 90, 'science': 91, 'english': 92}}\n"
          ]
        }
      ]
    },
    {
      "cell_type": "code",
      "source": [
        "# Assignment 8: Dictionary of Lists\\n\",\n",
        "##  \"Create a dictionary where the keys are the first 5 positive integers and the values are lists containing the first 5 multiples of the key.\n",
        "#Print the dictionary."
      ],
      "metadata": {
        "id": "nAv77aBUC1kP"
      },
      "execution_count": null,
      "outputs": []
    },
    {
      "cell_type": "code",
      "source": [
        "dict = { x :[x*i for i in range(1,6)] for x in range(1,6)}\n",
        "print(dict)"
      ],
      "metadata": {
        "colab": {
          "base_uri": "https://localhost:8080/"
        },
        "id": "ZA6aMcxWC1dt",
        "outputId": "3cfdf09b-a770-4876-847b-19197839926f"
      },
      "execution_count": null,
      "outputs": [
        {
          "output_type": "stream",
          "name": "stdout",
          "text": [
            "{1: [1, 2, 3, 4, 5], 2: [2, 4, 6, 8, 10], 3: [3, 6, 9, 12, 15], 4: [4, 8, 12, 16, 20], 5: [5, 10, 15, 20, 25]}\n"
          ]
        }
      ]
    },
    {
      "cell_type": "code",
      "source": [
        "# Assignment 9: Dictionary of Tuples\\n\",\n",
        "# \"Create a dictionary where the keys are the first 5 positive integers and the values are tuples containing the key and its square. Print the dictionary"
      ],
      "metadata": {
        "id": "2sctYCJRFoeT"
      },
      "execution_count": null,
      "outputs": []
    },
    {
      "cell_type": "code",
      "source": [
        "dict = {x:(x,x**2) for x in range(5)}\n",
        "print(dict)"
      ],
      "metadata": {
        "colab": {
          "base_uri": "https://localhost:8080/"
        },
        "id": "7kWgwTT-FtA_",
        "outputId": "b9928a71-5a50-49fe-dbd1-a177649f63ba"
      },
      "execution_count": null,
      "outputs": [
        {
          "output_type": "stream",
          "name": "stdout",
          "text": [
            "{0: (0, 0), 1: (1, 1), 2: (2, 4), 3: (3, 9), 4: (4, 16)}\n"
          ]
        }
      ]
    },
    {
      "cell_type": "code",
      "source": [
        "# Assignment 10: Dictionary and List Conversion\\n\",\n",
        "#\"Create a dictionary with the first 5 positive integers as keys and their squares as values. Convert the dictionary to a list of tuples and print it"
      ],
      "metadata": {
        "id": "lSCcVc8iF-OL"
      },
      "execution_count": null,
      "outputs": []
    },
    {
      "cell_type": "code",
      "source": [
        "dict = {x: x**2 for x in range(1,6)}\n",
        "print(dict)\n",
        "\n",
        "lst = list(dict.items())\n",
        "print(lst)"
      ],
      "metadata": {
        "colab": {
          "base_uri": "https://localhost:8080/"
        },
        "id": "h1EkrA9xGWlg",
        "outputId": "36f81900-d8ae-49c4-a29b-00b8682a0200"
      },
      "execution_count": null,
      "outputs": [
        {
          "output_type": "stream",
          "name": "stdout",
          "text": [
            "{1: 1, 2: 4, 3: 9, 4: 16, 5: 25}\n",
            "[(1, 1), (2, 4), (3, 9), (4, 16), (5, 25)]\n"
          ]
        }
      ]
    },
    {
      "cell_type": "code",
      "source": [
        "# Assignment 11: Dictionary Filtering\\n\",\n",
        "    #\"Create a dictionary with the first 10 positive integers as keys and their squares as values.\n",
        "    #Create a new dictionary containing only the key-value pairs where the key is even. Print the new dictionary."
      ],
      "metadata": {
        "id": "eI17uLyGGhK5"
      },
      "execution_count": null,
      "outputs": []
    },
    {
      "cell_type": "code",
      "source": [
        "dict = {x:x**2 for x in range (1,11)}\n",
        "print(dict)\n",
        "dict2 = {x:x**2 for x in range (1,11) if x%2==0}\n",
        "print(dict2)\n"
      ],
      "metadata": {
        "colab": {
          "base_uri": "https://localhost:8080/"
        },
        "id": "q0hNGZ96HOPt",
        "outputId": "e1bab7dc-9996-4dbc-9ab4-3bc12a6f5b64"
      },
      "execution_count": null,
      "outputs": [
        {
          "output_type": "stream",
          "name": "stdout",
          "text": [
            "{1: 1, 2: 4, 3: 9, 4: 16, 5: 25, 6: 36, 7: 49, 8: 64, 9: 81, 10: 100}\n",
            "{2: 4, 4: 16, 6: 36, 8: 64, 10: 100}\n"
          ]
        }
      ]
    },
    {
      "cell_type": "code",
      "source": [
        "## Assignment 12: Dictionary Key and Value Transformation\\n\",\n",
        "\n",
        "    #\"Create a dictionary with the first 5 positive integers as keys and their squares as values.\n",
        "    #Create a new dictionary with keys and values swapped. Print the new dictionary.\\n\","
      ],
      "metadata": {
        "id": "U-bdoxafHrEc"
      },
      "execution_count": null,
      "outputs": []
    },
    {
      "cell_type": "code",
      "source": [
        "dict1 = {x:x**2 for x in range(1,6)}\n",
        "print(dict1)\n",
        "dict2 = {values:keys for keys,values in dict1.items()}\n",
        "# dict2 = {x**2:x for x in range (1,6)}\n",
        "print(dict2)"
      ],
      "metadata": {
        "colab": {
          "base_uri": "https://localhost:8080/"
        },
        "id": "aM_VwiFqHzrn",
        "outputId": "ca611361-e2e7-4d91-93d3-16019e5395d2"
      },
      "execution_count": null,
      "outputs": [
        {
          "output_type": "stream",
          "name": "stdout",
          "text": [
            "{1: 1, 2: 4, 3: 9, 4: 16, 5: 25}\n",
            "{1: 1, 4: 2, 9: 3, 16: 4, 25: 5}\n"
          ]
        }
      ]
    },
    {
      "cell_type": "code",
      "source": [
        "## Assignment 13: Default Dictionary\\n\",\n",
        "# \"Create a default dictionary where each key has a default value of an empty list. Add some elements to the lists and print the dictionary."
      ],
      "metadata": {
        "id": "sLTKLaNIIK_Z"
      },
      "execution_count": null,
      "outputs": []
    },
    {
      "cell_type": "code",
      "source": [
        "from collections import defaultdict\n",
        "\n",
        "default_dict = defaultdict(list)\n",
        "default_dict[1].append(1)\n",
        "default_dict[2].append(2)\n",
        "default_dict[3].append(3)\n",
        "print(default_dict)"
      ],
      "metadata": {
        "colab": {
          "base_uri": "https://localhost:8080/"
        },
        "id": "eS6r1OGvId6k",
        "outputId": "134c02de-b19e-4a08-8be8-587d35f983fd"
      },
      "execution_count": null,
      "outputs": [
        {
          "output_type": "stream",
          "name": "stdout",
          "text": [
            "defaultdict(<class 'list'>, {1: [1], 2: [2], 3: [3]})\n"
          ]
        }
      ]
    },
    {
      "cell_type": "code",
      "source": [
        "# Assignment 14: Counting with Dictionaries\\n\",\n",
        "# \"Write a function that takes a string and returns a dictionary with the count of each character in the string. Print the dictionary."
      ],
      "metadata": {
        "id": "Kt9VY-lZJHRb"
      },
      "execution_count": null,
      "outputs": []
    },
    {
      "cell_type": "code",
      "source": [
        "def count_char(str):\n",
        "  count_dict = {}\n",
        "  for char in str:\n",
        "    count_dict[char] = count_dict.get(char, 1) +1\n",
        "  return count_dict\n",
        "str = \"manigandan chutiya he bsdk\"\n",
        "print(count_char(str))"
      ],
      "metadata": {
        "colab": {
          "base_uri": "https://localhost:8080/"
        },
        "id": "GeQ6uzpYJvfe",
        "outputId": "3e665ea0-5835-4c78-9930-b3306a8107f6"
      },
      "execution_count": null,
      "outputs": [
        {
          "output_type": "stream",
          "name": "stdout",
          "text": [
            "{'m': 2, 'a': 5, 'n': 4, 'i': 3, 'g': 2, 'd': 3, ' ': 4, 'c': 2, 'h': 3, 'u': 2, 't': 2, 'y': 2, 'e': 2, 'b': 2, 's': 2, 'k': 2}\n"
          ]
        }
      ]
    },
    {
      "cell_type": "code",
      "source": [
        "# Assignment 15: Dictionary and JSON\\n\",\n",
        "## \"Create a dictionary representing a book with keys 'title', 'author', 'year', and 'genre'. Convert the dictionary to a JSON string and print it.\""
      ],
      "metadata": {
        "id": "UiOthT0cJvcI"
      },
      "execution_count": null,
      "outputs": []
    },
    {
      "cell_type": "code",
      "source": [
        "import json\n",
        "\n",
        "# Create a dictionary representing a book\n",
        "book_dict = {\n",
        "    \"title\": \"The Great Gatsby\",\n",
        "    \"author\": \"F. Scott Fitzgerald\",\n",
        "    \"year\": 1925,\n",
        "    \"genre\": \"Novel\"\n",
        "}\n",
        "\n",
        "# Convert the dictionary to a JSON string\n",
        "book_json = json.dumps(book_dict, indent=4)\n",
        "\n",
        "# Print the JSON string\n",
        "print(book_json)\n"
      ],
      "metadata": {
        "colab": {
          "base_uri": "https://localhost:8080/"
        },
        "id": "Gp0EvfrcJvZf",
        "outputId": "f98e8697-f3f2-451e-d20d-f1fae32b1902"
      },
      "execution_count": null,
      "outputs": [
        {
          "output_type": "stream",
          "name": "stdout",
          "text": [
            "{\n",
            "    \"title\": \"The Great Gatsby\",\n",
            "    \"author\": \"F. Scott Fitzgerald\",\n",
            "    \"year\": 1925,\n",
            "    \"genre\": \"Novel\"\n",
            "}\n"
          ]
        }
      ]
    },
    {
      "cell_type": "code",
      "source": [
        "import os"
      ],
      "metadata": {
        "id": "PNepM9n6LcvM"
      },
      "execution_count": null,
      "outputs": []
    },
    {
      "cell_type": "code",
      "source": [
        "print(os.getcwd())"
      ],
      "metadata": {
        "colab": {
          "base_uri": "https://localhost:8080/"
        },
        "id": "svQzBPdv9uX3",
        "outputId": "99e284e3-068f-4a95-88d1-a9dfbe75e56a"
      },
      "execution_count": null,
      "outputs": [
        {
          "output_type": "stream",
          "name": "stdout",
          "text": [
            "/content\n"
          ]
        }
      ]
    },
    {
      "cell_type": "code",
      "source": [
        "os.mkdir('test.py')"
      ],
      "metadata": {
        "id": "zmqQ93V5-EiO"
      },
      "execution_count": null,
      "outputs": []
    }
  ]
}