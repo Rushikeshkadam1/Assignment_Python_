{
  "nbformat": 4,
  "nbformat_minor": 0,
  "metadata": {
    "colab": {
      "provenance": []
    },
    "kernelspec": {
      "name": "python3",
      "display_name": "Python 3"
    },
    "language_info": {
      "name": "python"
    }
  },
  "cells": [
    {
      "cell_type": "markdown",
      "source": [
        "# ***OPPS concept***"
      ],
      "metadata": {
        "id": "lC_De117kbBo"
      }
    },
    {
      "cell_type": "code",
      "execution_count": null,
      "metadata": {
        "id": "R5xbbu7MkXHA"
      },
      "outputs": [],
      "source": [
        "## Assignment 1: Basic Class and Object Creation\\n\",\n",
        "## \"Create a class named `Car` with attributes `make`, `model`, and `year`. Create an object of the class and print its attributes."
      ]
    },
    {
      "cell_type": "code",
      "source": [
        "class Car:\n",
        "  # Constuctor\n",
        "  def __init__(self,make,model,year):\n",
        "    self.make = make\n",
        "    self.model = model\n",
        "    self.year = year\n",
        "\n",
        "car1 = Car(\"BMW\", \"A5\", 2008)\n",
        "print(car1.make)\n",
        "print(car1.model)\n",
        "print(car1.year)\n"
      ],
      "metadata": {
        "colab": {
          "base_uri": "https://localhost:8080/"
        },
        "id": "Ara16OxukoEw",
        "outputId": "a32054b7-9e6a-40a7-a0b9-3d9b030f7231"
      },
      "execution_count": null,
      "outputs": [
        {
          "output_type": "stream",
          "name": "stdout",
          "text": [
            "BMW\n",
            "A5\n",
            "2008\n"
          ]
        }
      ]
    },
    {
      "cell_type": "code",
      "source": [
        "## Assignment 2: Methods in Class\\n\",\n",
        "## \"Add a method named `start_engine` to the `Car` class that prints a message when the engine starts. Create an object of the class and call the method"
      ],
      "metadata": {
        "id": "h3GQp2_QlVeL"
      },
      "execution_count": null,
      "outputs": []
    },
    {
      "cell_type": "code",
      "source": [
        "class Car:\n",
        "  def __init__(self,make,model,year):\n",
        "    self.make = make\n",
        "    self.model = model\n",
        "    self.year = year\n",
        "\n",
        "  def start_engine(self):\n",
        "    print(\"Engine is started!\")\n",
        "\n",
        "car1 = Car(\"BMW\", \"A5\", 2008)\n",
        "\n",
        "car1.start_engine()"
      ],
      "metadata": {
        "colab": {
          "base_uri": "https://localhost:8080/"
        },
        "id": "e8rnZHvwpZCv",
        "outputId": "fb62e3ad-d25b-45a5-82b5-897218a0811a"
      },
      "execution_count": null,
      "outputs": [
        {
          "output_type": "stream",
          "name": "stdout",
          "text": [
            "Engine is started!\n"
          ]
        }
      ]
    },
    {
      "cell_type": "code",
      "source": [
        "## Assignment 3: Class with Constructor\\n\",\n",
        "##   \"Create a class named `Student` with attributes `name` and `age`. Use a constructor to initialize these attributes. Create an object of the class and print its attributes."
      ],
      "metadata": {
        "id": "LQy-8t2NqK9a"
      },
      "execution_count": null,
      "outputs": []
    },
    {
      "cell_type": "code",
      "source": [
        "class std:\n",
        "  def __init__ (self, name, age):\n",
        "    self.name = name\n",
        "    self.age = age\n",
        "\n",
        "Rool_no_1 = std(\"Mani\", 29)\n",
        "\n",
        "print(Rool_no_1.name)\n",
        "print(Rool_no_1.age)"
      ],
      "metadata": {
        "colab": {
          "base_uri": "https://localhost:8080/"
        },
        "id": "CmVco1KDqRz4",
        "outputId": "1ac09c57-de33-4d6b-e2e2-9ddb95ed4aa7"
      },
      "execution_count": null,
      "outputs": [
        {
          "output_type": "stream",
          "name": "stdout",
          "text": [
            "Mani\n",
            "29\n"
          ]
        }
      ]
    },
    {
      "cell_type": "code",
      "source": [
        "## Assignment 4: Class with Private Attributes\\n\",\n",
        "## \"Create a class named `BankAccount` with private attributes `account_number` and `balance`. Add methods to deposit and withdraw money,\n",
        "## and to check the balance. Create an object of the class and perform some operations."
      ],
      "metadata": {
        "id": "FHIq5B9QqRx5"
      },
      "execution_count": null,
      "outputs": []
    },
    {
      "cell_type": "code",
      "source": [
        "class BankAccount:\n",
        "  # Constructor\n",
        "  def __init__(self, account_number, balance):\n",
        "    self.account_number = account_number #declaring parameter or variable instances, variables\n",
        "    self.balance = balance\n",
        "\n",
        "  def deposite(self, amount): # defining methods\n",
        "    self.balance += amount    # adding deposited money in current balance\n",
        "    print(f\"{amount} is deposited. {self.balance} is balance. \")\n",
        "\n",
        "  def withdraw(self, amount):\n",
        "    if self.balance< amount:\n",
        "      print(f\"{self.balance} is your current balance. you can not withdraw money!\")\n",
        "\n",
        "    else:\n",
        "      self.balance -= amount   #  removing or withdrawing money from current balance\n",
        "      print(f\"{amount} is withdrawn. {self.balance} is your current balance\")\n",
        "\n",
        "  def remaining_balance(self):\n",
        "    return self.balance    # final balance\n",
        "\n",
        "First_account = BankAccount(123456789, 50000)\n",
        "\n",
        "First_account.deposite(5000)\n",
        "First_account.withdraw(1000000)\n",
        "First_account.withdraw(10000)\n",
        "First_account.remaining_balance()\n",
        "\n"
      ],
      "metadata": {
        "colab": {
          "base_uri": "https://localhost:8080/"
        },
        "id": "fZJ7XwGBrTkw",
        "outputId": "c3035321-09f1-495c-b93c-74ef8ca28cf7"
      },
      "execution_count": null,
      "outputs": [
        {
          "output_type": "stream",
          "name": "stdout",
          "text": [
            "5000 is deposited. 55000 is balance. \n",
            "55000 is your current balance. you can not withdraw money!\n",
            "10000 is withdrawn. 45000 is your current balance\n"
          ]
        },
        {
          "output_type": "execute_result",
          "data": {
            "text/plain": [
              "45000"
            ]
          },
          "metadata": {},
          "execution_count": 25
        }
      ]
    },
    {
      "cell_type": "code",
      "source": [],
      "metadata": {
        "id": "zuZURkqXrTe-"
      },
      "execution_count": null,
      "outputs": []
    },
    {
      "cell_type": "code",
      "source": [],
      "metadata": {
        "id": "Yv9ABe5drTaN"
      },
      "execution_count": null,
      "outputs": []
    }
  ]
}